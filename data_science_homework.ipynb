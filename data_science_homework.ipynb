{
 "cells": [
  {
   "cell_type": "markdown",
   "id": "1745b3fb",
   "metadata": {},
   "source": [
    "# 📓 Data Science Homework: Descriptive Stats & Inference\n",
    "Name: *Your Name Here*  \n",
    "Date: *Submission Date Here*\n",
    "\n",
    "This notebook covers Descriptive Statistics and Inference based on simulated study data. The dataset explores the relationship between study hours and exam scores."
   ]
  },
  {
   "cell_type": "markdown",
   "id": "077d22e5",
   "metadata": {},
   "source": [
    "## 🔢 Section 1: Descriptive Statistical Analysis\n",
    "We'll calculate measures of central tendency and spread."
   ]
  },
  {
   "cell_type": "code",
   "execution_count": null,
   "id": "7224d7fe",
   "metadata": {},
   "outputs": [],
   "source": [
    "import numpy as np\n",
    "import pandas as pd\n",
    "import matplotlib.pyplot as plt\n",
    "import seaborn as sns\n",
    "from scipy import stats\n",
    "from sklearn.utils import resample\n",
    "\n",
    "sns.set(style=\"darkgrid\")\n",
    "\n",
    "# Load the dataset\n",
    "df = pd.read_csv(\"study_data.csv\")\n",
    "df.head()"
   ]
  },
  {
   "cell_type": "code",
   "execution_count": null,
   "id": "5ac73cc8",
   "metadata": {},
   "outputs": [],
   "source": [
    "# Central Tendency\n",
    "print(\"Mean:\\n\", df.mean())\n",
    "print(\"\\nMedian:\\n\", df.median())\n",
    "print(\"\\nMode:\\n\", df.mode().iloc[0])\n",
    "\n",
    "# Spread\n",
    "print(\"\\nStandard Deviation:\\n\", df.std())\n",
    "print(\"\\nVariance:\\n\", df.var())\n",
    "print(\"\\nIQR:\\n\", df.quantile(0.75) - df.quantile(0.25))"
   ]
  },
  {
   "cell_type": "markdown",
   "id": "db69cf7b",
   "metadata": {},
   "source": [
    "## 📊 Section 2: Visualizations\n",
    "We visualize the distribution and relationships within the data."
   ]
  },
  {
   "cell_type": "code",
   "execution_count": null,
   "id": "e5e8d4d0",
   "metadata": {},
   "outputs": [],
   "source": [
    "# Histogram\n",
    "df.hist(bins=10, figsize=(10, 4))\n",
    "plt.suptitle(\"Histograms of Study Hours & Exam Scores\")\n",
    "plt.show()\n",
    "\n",
    "# KDE\n",
    "df.plot(kind='kde', title='KDE of Study Hours & Exam Scores')\n",
    "plt.show()\n",
    "\n",
    "# Boxplot\n",
    "plt.figure(figsize=(8,4))\n",
    "sns.boxplot(data=df)\n",
    "plt.title(\"Boxplots\")\n",
    "plt.show()\n",
    "\n",
    "# Correlation Heatmap\n",
    "plt.figure(figsize=(6, 4))\n",
    "sns.heatmap(df.corr(), annot=True, cmap='coolwarm')\n",
    "plt.title(\"Correlation Heatmap\")\n",
    "plt.show()"
   ]
  },
  {
   "cell_type": "markdown",
   "id": "e5e4e0f5",
   "metadata": {},
   "source": [
    "## 🧪 Section 3: Bootstrap Confidence Interval\n",
    "We calculate a 95% confidence interval for the mean exam score using bootstrapping."
   ]
  },
  {
   "cell_type": "code",
   "execution_count": null,
   "id": "036c436a",
   "metadata": {},
   "outputs": [],
   "source": [
    "bootstrap_means = []\n",
    "\n",
    "for _ in range(1000):\n",
    "    sample = resample(df['Exam Score'], replace=True, n_samples=len(df))\n",
    "    bootstrap_means.append(sample.mean())\n",
    "\n",
    "conf_int = np.percentile(bootstrap_means, [2.5, 97.5])\n",
    "print(f\"95% Bootstrap Confidence Interval for Exam Score Mean: {conf_int}\")"
   ]
  },
  {
   "cell_type": "markdown",
   "id": "0d098d6a",
   "metadata": {},
   "source": [
    "## 🧠 Section 4: Hypothesis Test\n",
    "We test whether students who studied more than 5 hours scored significantly higher."
   ]
  },
  {
   "cell_type": "code",
   "execution_count": null,
   "id": "d477d8b4",
   "metadata": {},
   "outputs": [],
   "source": [
    "# Define groups\n",
    "group1 = df[df['Study Hours'] > 5]['Exam Score']\n",
    "group2 = df[df['Study Hours'] <= 5]['Exam Score']\n",
    "\n",
    "# Hypothesis Test\n",
    "t_stat, p_val = stats.ttest_ind(group1, group2, equal_var=False)\n",
    "\n",
    "print(\"T-statistic:\", t_stat)\n",
    "print(\"P-value:\", p_val)\n",
    "\n",
    "if p_val < 0.05:\n",
    "    print(\"Reject the null hypothesis: Students who studied >5 hours scored significantly higher.\")\n",
    "else:\n",
    "    print(\"Fail to reject the null: No significant difference found.\")"
   ]
  },
  {
   "cell_type": "markdown",
   "id": "43c61230",
   "metadata": {},
   "source": [
    "## ✅ Conclusion\n",
    "- The data showed a generally positive correlation between study hours and exam scores.\n",
    "- The bootstrap confidence interval helped estimate the average score more robustly.\n",
    "- Hypothesis testing supported the claim that more study hours may lead to higher scores.\n",
    "\n",
    "*End of analysis.*"
   ]
  }
 ],
 "metadata": {},
 "nbformat": 4,
 "nbformat_minor": 5
}
